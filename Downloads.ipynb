{
 "cells": [
  {
   "cell_type": "code",
   "execution_count": 1,
   "id": "0177a100",
   "metadata": {},
   "outputs": [],
   "source": [
    "import pandas as pd\n"
   ]
  },
  {
   "cell_type": "code",
   "execution_count": 2,
   "id": "9f42737c",
   "metadata": {},
   "outputs": [],
   "source": [
    "train = pd.read_excel('Downloads\\Indian stock market final sheet Part 1.xlsx')"
   ]
  },
  {
   "cell_type": "code",
   "execution_count": 3,
   "id": "15cd8e03",
   "metadata": {},
   "outputs": [
    {
     "data": {
      "text/html": [
       "<div>\n",
       "<style scoped>\n",
       "    .dataframe tbody tr th:only-of-type {\n",
       "        vertical-align: middle;\n",
       "    }\n",
       "\n",
       "    .dataframe tbody tr th {\n",
       "        vertical-align: top;\n",
       "    }\n",
       "\n",
       "    .dataframe thead th {\n",
       "        text-align: right;\n",
       "    }\n",
       "</style>\n",
       "<table border=\"1\" class=\"dataframe\">\n",
       "  <thead>\n",
       "    <tr style=\"text-align: right;\">\n",
       "      <th></th>\n",
       "      <th>Name</th>\n",
       "      <th>Ticker</th>\n",
       "      <th>Sub-Sector</th>\n",
       "      <th>Market Cap</th>\n",
       "      <th>Close Price</th>\n",
       "      <th>PE Ratio</th>\n",
       "      <th>Return on Equity</th>\n",
       "      <th>Return on Assets</th>\n",
       "      <th>Net Profit Margin</th>\n",
       "      <th>5Y Avg EBITDA Margin</th>\n",
       "      <th>...</th>\n",
       "      <th>Net Income</th>\n",
       "      <th>PBT</th>\n",
       "      <th>Earnings Per Share</th>\n",
       "      <th>EBITDA</th>\n",
       "      <th>Long Term Investments</th>\n",
       "      <th>Reserves &amp; Surplus</th>\n",
       "      <th>Cash and Equivalent</th>\n",
       "      <th>Book Value</th>\n",
       "      <th>Free Cash Flow</th>\n",
       "      <th>Operating Cash Flow</th>\n",
       "    </tr>\n",
       "  </thead>\n",
       "  <tbody>\n",
       "    <tr>\n",
       "      <th>0</th>\n",
       "      <td>Reliance Industries Ltd</td>\n",
       "      <td>RELIANCE</td>\n",
       "      <td>Oil &amp; Gas - Refining &amp; Marketing</td>\n",
       "      <td>1.679534e+06</td>\n",
       "      <td>2467.40</td>\n",
       "      <td>34.186904</td>\n",
       "      <td>7.793277</td>\n",
       "      <td>3.957021</td>\n",
       "      <td>9.725370</td>\n",
       "      <td>17.720494</td>\n",
       "      <td>...</td>\n",
       "      <td>49128.00</td>\n",
       "      <td>55461.00</td>\n",
       "      <td>74.653049</td>\n",
       "      <td>103222.00</td>\n",
       "      <td>212382.00</td>\n",
       "      <td>579376.00</td>\n",
       "      <td>169843.00</td>\n",
       "      <td>799432.00</td>\n",
       "      <td>-79652.00</td>\n",
       "      <td>26185.00</td>\n",
       "    </tr>\n",
       "    <tr>\n",
       "      <th>1</th>\n",
       "      <td>Tata Consultancy Services Ltd</td>\n",
       "      <td>TCS</td>\n",
       "      <td>IT Services &amp; Consulting</td>\n",
       "      <td>1.358569e+06</td>\n",
       "      <td>3626.70</td>\n",
       "      <td>41.892356</td>\n",
       "      <td>37.740680</td>\n",
       "      <td>25.932382</td>\n",
       "      <td>19.383065</td>\n",
       "      <td>29.072528</td>\n",
       "      <td>...</td>\n",
       "      <td>32430.00</td>\n",
       "      <td>43760.00</td>\n",
       "      <td>87.043624</td>\n",
       "      <td>48462.00</td>\n",
       "      <td>213.00</td>\n",
       "      <td>86063.00</td>\n",
       "      <td>38489.00</td>\n",
       "      <td>87108.00</td>\n",
       "      <td>35727.00</td>\n",
       "      <td>38802.00</td>\n",
       "    </tr>\n",
       "    <tr>\n",
       "      <th>2</th>\n",
       "      <td>HDFC Bank Ltd</td>\n",
       "      <td>HDFCBANK</td>\n",
       "      <td>Private Banks</td>\n",
       "      <td>8.206363e+05</td>\n",
       "      <td>1486.50</td>\n",
       "      <td>25.779258</td>\n",
       "      <td>16.435200</td>\n",
       "      <td>1.883433</td>\n",
       "      <td>20.420916</td>\n",
       "      <td>28.206116</td>\n",
       "      <td>...</td>\n",
       "      <td>31833.20</td>\n",
       "      <td>42796.14</td>\n",
       "      <td>57.899268</td>\n",
       "      <td>44181.15</td>\n",
       "      <td>438823.11</td>\n",
       "      <td>148746.23</td>\n",
       "      <td>121272.52</td>\n",
       "      <td>210442.95</td>\n",
       "      <td>40780.31</td>\n",
       "      <td>42476.46</td>\n",
       "    </tr>\n",
       "    <tr>\n",
       "      <th>3</th>\n",
       "      <td>Infosys Ltd</td>\n",
       "      <td>INFY</td>\n",
       "      <td>IT Services &amp; Consulting</td>\n",
       "      <td>7.775010e+05</td>\n",
       "      <td>1853.05</td>\n",
       "      <td>40.178853</td>\n",
       "      <td>27.135305</td>\n",
       "      <td>19.417895</td>\n",
       "      <td>18.847214</td>\n",
       "      <td>28.656802</td>\n",
       "      <td>...</td>\n",
       "      <td>19351.00</td>\n",
       "      <td>26628.00</td>\n",
       "      <td>45.607423</td>\n",
       "      <td>30090.00</td>\n",
       "      <td>11863.00</td>\n",
       "      <td>73627.00</td>\n",
       "      <td>27056.00</td>\n",
       "      <td>76782.00</td>\n",
       "      <td>21117.00</td>\n",
       "      <td>23224.00</td>\n",
       "    </tr>\n",
       "    <tr>\n",
       "      <th>4</th>\n",
       "      <td>ICICI Bank Ltd</td>\n",
       "      <td>ICICIBANK</td>\n",
       "      <td>Private Banks</td>\n",
       "      <td>5.002790e+05</td>\n",
       "      <td>710.75</td>\n",
       "      <td>27.212283</td>\n",
       "      <td>12.382897</td>\n",
       "      <td>1.243333</td>\n",
       "      <td>11.395012</td>\n",
       "      <td>11.900543</td>\n",
       "      <td>...</td>\n",
       "      <td>18384.31</td>\n",
       "      <td>26028.33</td>\n",
       "      <td>27.461218</td>\n",
       "      <td>27368.40</td>\n",
       "      <td>536578.62</td>\n",
       "      <td>107231.52</td>\n",
       "      <td>147570.54</td>\n",
       "      <td>167175.84</td>\n",
       "      <td>136327.09</td>\n",
       "      <td>138015.30</td>\n",
       "    </tr>\n",
       "  </tbody>\n",
       "</table>\n",
       "<p>5 rows × 44 columns</p>\n",
       "</div>"
      ],
      "text/plain": [
       "                            Name     Ticker                        Sub-Sector  \\\n",
       "0        Reliance Industries Ltd   RELIANCE  Oil & Gas - Refining & Marketing   \n",
       "1  Tata Consultancy Services Ltd        TCS          IT Services & Consulting   \n",
       "2                  HDFC Bank Ltd   HDFCBANK                     Private Banks   \n",
       "3                    Infosys Ltd       INFY          IT Services & Consulting   \n",
       "4                 ICICI Bank Ltd  ICICIBANK                     Private Banks   \n",
       "\n",
       "     Market Cap  Close Price   PE Ratio  Return on Equity  Return on Assets  \\\n",
       "0  1.679534e+06      2467.40  34.186904          7.793277          3.957021   \n",
       "1  1.358569e+06      3626.70  41.892356         37.740680         25.932382   \n",
       "2  8.206363e+05      1486.50  25.779258         16.435200          1.883433   \n",
       "3  7.775010e+05      1853.05  40.178853         27.135305         19.417895   \n",
       "4  5.002790e+05       710.75  27.212283         12.382897          1.243333   \n",
       "\n",
       "   Net Profit Margin  5Y Avg EBITDA Margin  ...  Net Income       PBT  \\\n",
       "0           9.725370             17.720494  ...    49128.00  55461.00   \n",
       "1          19.383065             29.072528  ...    32430.00  43760.00   \n",
       "2          20.420916             28.206116  ...    31833.20  42796.14   \n",
       "3          18.847214             28.656802  ...    19351.00  26628.00   \n",
       "4          11.395012             11.900543  ...    18384.31  26028.33   \n",
       "\n",
       "   Earnings Per Share     EBITDA  Long Term Investments  Reserves & Surplus  \\\n",
       "0           74.653049  103222.00              212382.00           579376.00   \n",
       "1           87.043624   48462.00                 213.00            86063.00   \n",
       "2           57.899268   44181.15              438823.11           148746.23   \n",
       "3           45.607423   30090.00               11863.00            73627.00   \n",
       "4           27.461218   27368.40              536578.62           107231.52   \n",
       "\n",
       "   Cash and Equivalent  Book Value  Free Cash Flow  Operating Cash Flow  \n",
       "0            169843.00   799432.00       -79652.00             26185.00  \n",
       "1             38489.00    87108.00        35727.00             38802.00  \n",
       "2            121272.52   210442.95        40780.31             42476.46  \n",
       "3             27056.00    76782.00        21117.00             23224.00  \n",
       "4            147570.54   167175.84       136327.09            138015.30  \n",
       "\n",
       "[5 rows x 44 columns]"
      ]
     },
     "execution_count": 3,
     "metadata": {},
     "output_type": "execute_result"
    }
   ],
   "source": [
    "train.head()"
   ]
  },
  {
   "cell_type": "code",
   "execution_count": 4,
   "id": "e0db423e",
   "metadata": {},
   "outputs": [
    {
     "data": {
      "text/plain": [
       "Name                                 0\n",
       "Ticker                               0\n",
       "Sub-Sector                          53\n",
       "Market Cap                           0\n",
       "Close Price                          0\n",
       "PE Ratio                            43\n",
       "Return on Equity                   130\n",
       "Return on Assets                    48\n",
       "Net Profit Margin                   47\n",
       "5Y Avg EBITDA Margin               120\n",
       "EBITDA Margin                       47\n",
       "1Y Return vs Nifty                   0\n",
       "5Y CAGR                            407\n",
       "Debt to Equity                     165\n",
       "Long Term Debt to Equity           167\n",
       "Net Income / Liabilities           443\n",
       "5Y Historical Revenue Growth       129\n",
       "5Y Historical EBITDA Growth        376\n",
       "5Y Hist Op. Cash Flow Growth       727\n",
       "5Y Historical EPS Growth           671\n",
       "Forward PE Ratio                  1469\n",
       "Enterprise Value                     1\n",
       "PB Ratio                            46\n",
       "Dividend Yield                     902\n",
       "PE Premium vs Sector                43\n",
       "Domestic Institutional Holding      40\n",
       "Mutual Fund Holding                 40\n",
       "Promoter Holding                    40\n",
       "Foreign Institutional Holding       40\n",
       "Retail Investor Holding             41\n",
       "Pledged Promoter Holdings           40\n",
       "Insurance Firms Holding             40\n",
       "No. of Shareholders                 50\n",
       "Total Revenue                       41\n",
       "Net Income                          41\n",
       "PBT                                 41\n",
       "Earnings Per Share                  41\n",
       "EBITDA                              41\n",
       "Long Term Investments               46\n",
       "Reserves & Surplus                  46\n",
       "Cash and Equivalent                 46\n",
       "Book Value                          47\n",
       "Free Cash Flow                      46\n",
       "Operating Cash Flow                 46\n",
       "dtype: int64"
      ]
     },
     "execution_count": 4,
     "metadata": {},
     "output_type": "execute_result"
    }
   ],
   "source": [
    "# check how many missing values\n",
    "train.isnull().sum()"
   ]
  },
  {
   "cell_type": "markdown",
   "id": "0ba73a2e",
   "metadata": {},
   "source": [
    "# Replace missing categorical values"
   ]
  },
  {
   "cell_type": "code",
   "execution_count": 5,
   "id": "60cb7ccd",
   "metadata": {},
   "outputs": [],
   "source": [
    "def impute_nan_most_frequent_category(DataFrame,ColName):\n",
    "    # .mode()[0] - gives first category name\n",
    "     most_frequent_category=DataFrame[ColName].mode()[0]\n",
    "    \n",
    "    # replace nan values with most occured category\n",
    "     DataFrame[ColName + '_new'] = DataFrame[ColName]\n",
    "     DataFrame[ColName + '_new'].fillna(most_frequent_category,inplace=True)"
   ]
  },
  {
   "cell_type": "code",
   "execution_count": 6,
   "id": "47c1aec2",
   "metadata": {},
   "outputs": [
    {
     "data": {
      "text/html": [
       "<div>\n",
       "<style scoped>\n",
       "    .dataframe tbody tr th:only-of-type {\n",
       "        vertical-align: middle;\n",
       "    }\n",
       "\n",
       "    .dataframe tbody tr th {\n",
       "        vertical-align: top;\n",
       "    }\n",
       "\n",
       "    .dataframe thead th {\n",
       "        text-align: right;\n",
       "    }\n",
       "</style>\n",
       "<table border=\"1\" class=\"dataframe\">\n",
       "  <thead>\n",
       "    <tr style=\"text-align: right;\">\n",
       "      <th></th>\n",
       "      <th>Sub-Sector</th>\n",
       "      <th>Sub-Sector_new</th>\n",
       "    </tr>\n",
       "  </thead>\n",
       "  <tbody>\n",
       "    <tr>\n",
       "      <th>0</th>\n",
       "      <td>Oil &amp; Gas - Refining &amp; Marketing</td>\n",
       "      <td>Oil &amp; Gas - Refining &amp; Marketing</td>\n",
       "    </tr>\n",
       "    <tr>\n",
       "      <th>1</th>\n",
       "      <td>IT Services &amp; Consulting</td>\n",
       "      <td>IT Services &amp; Consulting</td>\n",
       "    </tr>\n",
       "    <tr>\n",
       "      <th>2</th>\n",
       "      <td>Private Banks</td>\n",
       "      <td>Private Banks</td>\n",
       "    </tr>\n",
       "    <tr>\n",
       "      <th>3</th>\n",
       "      <td>IT Services &amp; Consulting</td>\n",
       "      <td>IT Services &amp; Consulting</td>\n",
       "    </tr>\n",
       "    <tr>\n",
       "      <th>4</th>\n",
       "      <td>Private Banks</td>\n",
       "      <td>Private Banks</td>\n",
       "    </tr>\n",
       "    <tr>\n",
       "      <th>5</th>\n",
       "      <td>FMCG - Household Products</td>\n",
       "      <td>FMCG - Household Products</td>\n",
       "    </tr>\n",
       "    <tr>\n",
       "      <th>6</th>\n",
       "      <td>Public Banks</td>\n",
       "      <td>Public Banks</td>\n",
       "    </tr>\n",
       "    <tr>\n",
       "      <th>7</th>\n",
       "      <td>Home Financing</td>\n",
       "      <td>Home Financing</td>\n",
       "    </tr>\n",
       "    <tr>\n",
       "      <th>8</th>\n",
       "      <td>Consumer Finance</td>\n",
       "      <td>Consumer Finance</td>\n",
       "    </tr>\n",
       "    <tr>\n",
       "      <th>9</th>\n",
       "      <td>Telecom Services</td>\n",
       "      <td>Telecom Services</td>\n",
       "    </tr>\n",
       "  </tbody>\n",
       "</table>\n",
       "</div>"
      ],
      "text/plain": [
       "                         Sub-Sector                    Sub-Sector_new\n",
       "0  Oil & Gas - Refining & Marketing  Oil & Gas - Refining & Marketing\n",
       "1          IT Services & Consulting          IT Services & Consulting\n",
       "2                     Private Banks                     Private Banks\n",
       "3          IT Services & Consulting          IT Services & Consulting\n",
       "4                     Private Banks                     Private Banks\n",
       "5         FMCG - Household Products         FMCG - Household Products\n",
       "6                      Public Banks                      Public Banks\n",
       "7                    Home Financing                    Home Financing\n",
       "8                  Consumer Finance                  Consumer Finance\n",
       "9                  Telecom Services                  Telecom Services"
      ]
     },
     "execution_count": 6,
     "metadata": {},
     "output_type": "execute_result"
    }
   ],
   "source": [
    "for Columns in ['Sub-Sector']:\n",
    "    impute_nan_most_frequent_category(train,Columns)\n",
    "    \n",
    "# Display imputed result\n",
    "train[['Sub-Sector','Sub-Sector_new']].head(10)"
   ]
  },
  {
   "cell_type": "code",
   "execution_count": 7,
   "id": "53d9c4ec",
   "metadata": {},
   "outputs": [],
   "source": [
    "#3. Drop actual columns\n",
    "train = train.drop(['Sub-Sector'], axis = 1)"
   ]
  },
  {
   "cell_type": "code",
   "execution_count": 8,
   "id": "59a170a8",
   "metadata": {},
   "outputs": [
    {
     "data": {
      "text/plain": [
       "Name                                 0\n",
       "Ticker                               0\n",
       "Market Cap                           0\n",
       "Close Price                          0\n",
       "PE Ratio                            43\n",
       "Return on Equity                   130\n",
       "Return on Assets                    48\n",
       "Net Profit Margin                   47\n",
       "5Y Avg EBITDA Margin               120\n",
       "EBITDA Margin                       47\n",
       "1Y Return vs Nifty                   0\n",
       "5Y CAGR                            407\n",
       "Debt to Equity                     165\n",
       "Long Term Debt to Equity           167\n",
       "Net Income / Liabilities           443\n",
       "5Y Historical Revenue Growth       129\n",
       "5Y Historical EBITDA Growth        376\n",
       "5Y Hist Op. Cash Flow Growth       727\n",
       "5Y Historical EPS Growth           671\n",
       "Forward PE Ratio                  1469\n",
       "Enterprise Value                     1\n",
       "PB Ratio                            46\n",
       "Dividend Yield                     902\n",
       "PE Premium vs Sector                43\n",
       "Domestic Institutional Holding      40\n",
       "Mutual Fund Holding                 40\n",
       "Promoter Holding                    40\n",
       "Foreign Institutional Holding       40\n",
       "Retail Investor Holding             41\n",
       "Pledged Promoter Holdings           40\n",
       "Insurance Firms Holding             40\n",
       "No. of Shareholders                 50\n",
       "Total Revenue                       41\n",
       "Net Income                          41\n",
       "PBT                                 41\n",
       "Earnings Per Share                  41\n",
       "EBITDA                              41\n",
       "Long Term Investments               46\n",
       "Reserves & Surplus                  46\n",
       "Cash and Equivalent                 46\n",
       "Book Value                          47\n",
       "Free Cash Flow                      46\n",
       "Operating Cash Flow                 46\n",
       "Sub-Sector_new                       0\n",
       "dtype: int64"
      ]
     },
     "execution_count": 8,
     "metadata": {},
     "output_type": "execute_result"
    }
   ],
   "source": [
    "train.isnull().sum()"
   ]
  },
  {
   "cell_type": "markdown",
   "id": "f3bf9711",
   "metadata": {},
   "source": [
    "# Replace numerical values with mean"
   ]
  },
  {
   "cell_type": "code",
   "execution_count": 9,
   "id": "fd282441",
   "metadata": {},
   "outputs": [
    {
     "data": {
      "text/plain": [
       "14.428791790034811"
      ]
     },
     "execution_count": 9,
     "metadata": {},
     "output_type": "execute_result"
    }
   ],
   "source": [
    "train['5Y CAGR'].mean()"
   ]
  },
  {
   "cell_type": "code",
   "execution_count": 10,
   "id": "d9e224d6",
   "metadata": {},
   "outputs": [],
   "source": [
    "train['5Y CAGR'] = train['5Y CAGR'].fillna(train['5Y CAGR'].mean())\n",
    "train['Earnings Per Share'] = train['Earnings Per Share'].fillna(train['Earnings Per Share'].mean())"
   ]
  },
  {
   "cell_type": "code",
   "execution_count": 11,
   "id": "f1fe027a",
   "metadata": {},
   "outputs": [
    {
     "data": {
      "text/plain": [
       "Name                                 0\n",
       "Ticker                               0\n",
       "Market Cap                           0\n",
       "Close Price                          0\n",
       "PE Ratio                            43\n",
       "Return on Equity                   130\n",
       "Return on Assets                    48\n",
       "Net Profit Margin                   47\n",
       "5Y Avg EBITDA Margin               120\n",
       "EBITDA Margin                       47\n",
       "1Y Return vs Nifty                   0\n",
       "5Y CAGR                              0\n",
       "Debt to Equity                     165\n",
       "Long Term Debt to Equity           167\n",
       "Net Income / Liabilities           443\n",
       "5Y Historical Revenue Growth       129\n",
       "5Y Historical EBITDA Growth        376\n",
       "5Y Hist Op. Cash Flow Growth       727\n",
       "5Y Historical EPS Growth           671\n",
       "Forward PE Ratio                  1469\n",
       "Enterprise Value                     1\n",
       "PB Ratio                            46\n",
       "Dividend Yield                     902\n",
       "PE Premium vs Sector                43\n",
       "Domestic Institutional Holding      40\n",
       "Mutual Fund Holding                 40\n",
       "Promoter Holding                    40\n",
       "Foreign Institutional Holding       40\n",
       "Retail Investor Holding             41\n",
       "Pledged Promoter Holdings           40\n",
       "Insurance Firms Holding             40\n",
       "No. of Shareholders                 50\n",
       "Total Revenue                       41\n",
       "Net Income                          41\n",
       "PBT                                 41\n",
       "Earnings Per Share                   0\n",
       "EBITDA                              41\n",
       "Long Term Investments               46\n",
       "Reserves & Surplus                  46\n",
       "Cash and Equivalent                 46\n",
       "Book Value                          47\n",
       "Free Cash Flow                      46\n",
       "Operating Cash Flow                 46\n",
       "Sub-Sector_new                       0\n",
       "dtype: int64"
      ]
     },
     "execution_count": 11,
     "metadata": {},
     "output_type": "execute_result"
    }
   ],
   "source": [
    "train.isnull().sum()"
   ]
  },
  {
   "cell_type": "code",
   "execution_count": 12,
   "id": "eb23831e",
   "metadata": {},
   "outputs": [
    {
     "data": {
      "text/plain": [
       "14.428791790034955"
      ]
     },
     "execution_count": 12,
     "metadata": {},
     "output_type": "execute_result"
    }
   ],
   "source": [
    "train['5Y CAGR'].mean()"
   ]
  },
  {
   "cell_type": "code",
   "execution_count": 13,
   "id": "e78196bc",
   "metadata": {},
   "outputs": [
    {
     "data": {
      "text/plain": [
       "16.9622803886661"
      ]
     },
     "execution_count": 13,
     "metadata": {},
     "output_type": "execute_result"
    }
   ],
   "source": [
    "train['Earnings Per Share'].mean()"
   ]
  },
  {
   "cell_type": "code",
   "execution_count": 14,
   "id": "aa52ce41",
   "metadata": {},
   "outputs": [],
   "source": [
    "import seaborn as sns"
   ]
  },
  {
   "cell_type": "code",
   "execution_count": null,
   "id": "8e5c9001",
   "metadata": {},
   "outputs": [],
   "source": [
    "data.to_excel('Indian stock market final sheet.xlsx', sheet_name='sheet1', index=False)"
   ]
  },
  {
   "cell_type": "code",
   "execution_count": null,
   "id": "b2648d95",
   "metadata": {},
   "outputs": [],
   "source": []
  }
 ],
 "metadata": {
  "kernelspec": {
   "display_name": "Python 3 (ipykernel)",
   "language": "python",
   "name": "python3"
  },
  "language_info": {
   "codemirror_mode": {
    "name": "ipython",
    "version": 3
   },
   "file_extension": ".py",
   "mimetype": "text/x-python",
   "name": "python",
   "nbconvert_exporter": "python",
   "pygments_lexer": "ipython3",
   "version": "3.9.12"
  }
 },
 "nbformat": 4,
 "nbformat_minor": 5
}
